{
  "cells": [
    {
      "cell_type": "code",
      "execution_count": null,
      "id": "74cccc13-c3fc-4e25-aebc-49186eb46287",
      "metadata": {
        "id": "74cccc13-c3fc-4e25-aebc-49186eb46287"
      },
      "outputs": [],
      "source": [
        "import tensorflow as tf\n",
        "from tensorflow.keras.datasets import imdb\n",
        "from tensorflow.keras.preprocessing.sequence import pad_sequences\n",
        "from tensorflow.keras.models import Sequential\n",
        "from tensorflow.keras.layers import Embedding, Bidirectional, SimpleRNN, LSTM, GRU, Dense"
      ]
    },
    {
      "cell_type": "code",
      "execution_count": null,
      "id": "d2774230-f8f5-41a4-97a7-29913e1b53b3",
      "metadata": {
        "id": "d2774230-f8f5-41a4-97a7-29913e1b53b3",
        "colab": {
          "base_uri": "https://localhost:8080/"
        },
        "outputId": "b6a45e81-0edb-477d-a3f0-a4a3f2ad8890"
      },
      "outputs": [
        {
          "output_type": "stream",
          "name": "stdout",
          "text": [
            "Downloading data from https://storage.googleapis.com/tensorflow/tf-keras-datasets/imdb.npz\n",
            "\u001b[1m17464789/17464789\u001b[0m \u001b[32m━━━━━━━━━━━━━━━━━━━━\u001b[0m\u001b[37m\u001b[0m \u001b[1m2s\u001b[0m 0us/step\n"
          ]
        }
      ],
      "source": [
        "num_words = 10000\n",
        "(X_train, y_train), (X_test, y_test) = imdb.load_data(num_words = num_words)"
      ]
    },
    {
      "cell_type": "code",
      "execution_count": null,
      "id": "2545b081-3350-4655-9c6c-57254a9a3080",
      "metadata": {
        "id": "2545b081-3350-4655-9c6c-57254a9a3080"
      },
      "outputs": [],
      "source": [
        "maxlen = 100\n",
        "X_train = pad_sequences(X_train, maxlen = maxlen, padding = 'post', truncating = 'post')\n",
        "X_test = pad_sequences(X_test, maxlen = maxlen, padding = 'post', truncating = 'post')"
      ]
    },
    {
      "cell_type": "code",
      "execution_count": null,
      "id": "ee2715af-a4e8-4f03-bcbd-3baa0316151a",
      "metadata": {
        "id": "ee2715af-a4e8-4f03-bcbd-3baa0316151a"
      },
      "outputs": [],
      "source": [
        "embedding_dim = 32"
      ]
    },
    {
      "cell_type": "code",
      "execution_count": null,
      "id": "710e8330-8523-4e5d-9cb2-7154721c37a8",
      "metadata": {
        "id": "710e8330-8523-4e5d-9cb2-7154721c37a8"
      },
      "outputs": [],
      "source": [
        "#model = Sequential([\n",
        "  #  Embedding(input_dim = num_words, output_dim = embedding_dim, input_length = maxlen),\n",
        "  #  Bidirectional(SimpleRNN(5)),\n",
        "   # Dense(1, activation = 'sigmoid')\n",
        "#])\n",
        "#model.compile(optimizer = 'adam', loss = 'binary_crossentropy', metrics = ['accuracy'])\n",
        "#model.summary()"
      ]
    },
    {
      "cell_type": "code",
      "execution_count": null,
      "id": "38f1fd84-ef1d-4c97-b1e8-397f09f6bd64",
      "metadata": {
        "colab": {
          "base_uri": "https://localhost:8080/"
        },
        "id": "38f1fd84-ef1d-4c97-b1e8-397f09f6bd64",
        "outputId": "e0238fe4-b513-4c1d-d389-5aaaa7fcf2ce"
      },
      "outputs": [
        {
          "output_type": "stream",
          "name": "stderr",
          "text": [
            "/usr/local/lib/python3.11/dist-packages/keras/src/layers/core/embedding.py:90: UserWarning: Argument `input_length` is deprecated. Just remove it.\n",
            "  warnings.warn(\n"
          ]
        }
      ],
      "source": [
        "models = {\n",
        "    \"Simple RNN\": Sequential([\n",
        "        Embedding(input_dim=num_words, output_dim=embedding_dim, input_length=maxlen),\n",
        "        SimpleRNN(5),\n",
        "        Dense(1, activation='sigmoid')\n",
        "    ]),\n",
        "    \"Bi-RNN\": Sequential([\n",
        "        Embedding(input_dim=num_words, output_dim=embedding_dim, input_length=maxlen),\n",
        "        Bidirectional(SimpleRNN(5)),\n",
        "        Dense(1, activation='sigmoid')\n",
        "    ]),\n",
        "    \"Bi-LSTM\": Sequential([\n",
        "        Embedding(input_dim=num_words, output_dim=embedding_dim, input_length=maxlen),\n",
        "        Bidirectional(LSTM(5)),\n",
        "        Dense(1, activation='sigmoid')\n",
        "    ]),\n",
        "    \"Bi-GRU\": Sequential([\n",
        "        Embedding(input_dim=num_words, output_dim=embedding_dim, input_length=maxlen),\n",
        "        Bidirectional(GRU(5)),\n",
        "        Dense(1, activation='sigmoid')\n",
        "    ])\n",
        "}\n"
      ]
    },
    {
      "cell_type": "code",
      "execution_count": null,
      "id": "74b5f24b-f178-4be9-95d1-9023efce0f5b",
      "metadata": {
        "colab": {
          "base_uri": "https://localhost:8080/"
        },
        "id": "74b5f24b-f178-4be9-95d1-9023efce0f5b",
        "outputId": "b2d800f0-683c-42fe-acee-58fdefecfeb2"
      },
      "outputs": [
        {
          "output_type": "stream",
          "name": "stdout",
          "text": [
            "Training Simple RNN...\n",
            "Epoch 1/3\n",
            "\u001b[1m782/782\u001b[0m \u001b[32m━━━━━━━━━━━━━━━━━━━━\u001b[0m\u001b[37m\u001b[0m \u001b[1m17s\u001b[0m 16ms/step - accuracy: 0.5071 - loss: 0.6978 - val_accuracy: 0.5193 - val_loss: 0.6929\n",
            "Epoch 2/3\n",
            "\u001b[1m782/782\u001b[0m \u001b[32m━━━━━━━━━━━━━━━━━━━━\u001b[0m\u001b[37m\u001b[0m \u001b[1m9s\u001b[0m 11ms/step - accuracy: 0.6878 - loss: 0.6266 - val_accuracy: 0.5122 - val_loss: 0.7362\n",
            "Epoch 3/3\n",
            "\u001b[1m782/782\u001b[0m \u001b[32m━━━━━━━━━━━━━━━━━━━━\u001b[0m\u001b[37m\u001b[0m \u001b[1m10s\u001b[0m 11ms/step - accuracy: 0.8043 - loss: 0.4680 - val_accuracy: 0.5124 - val_loss: 0.8468\n",
            "\u001b[1m782/782\u001b[0m \u001b[32m━━━━━━━━━━━━━━━━━━━━\u001b[0m\u001b[37m\u001b[0m \u001b[1m3s\u001b[0m 4ms/step - accuracy: 0.5136 - loss: 0.8445\n",
            "Simple RNN Accuracy: 0.5124\n",
            "\n",
            "Training Bi-RNN...\n",
            "Epoch 1/3\n",
            "\u001b[1m782/782\u001b[0m \u001b[32m━━━━━━━━━━━━━━━━━━━━\u001b[0m\u001b[37m\u001b[0m \u001b[1m20s\u001b[0m 21ms/step - accuracy: 0.6062 - loss: 0.6514 - val_accuracy: 0.7569 - val_loss: 0.5145\n",
            "Epoch 2/3\n",
            "\u001b[1m782/782\u001b[0m \u001b[32m━━━━━━━━━━━━━━━━━━━━\u001b[0m\u001b[37m\u001b[0m \u001b[1m18s\u001b[0m 19ms/step - accuracy: 0.8251 - loss: 0.4152 - val_accuracy: 0.7739 - val_loss: 0.4988\n",
            "Epoch 3/3\n",
            "\u001b[1m782/782\u001b[0m \u001b[32m━━━━━━━━━━━━━━━━━━━━\u001b[0m\u001b[37m\u001b[0m \u001b[1m22s\u001b[0m 21ms/step - accuracy: 0.8959 - loss: 0.2810 - val_accuracy: 0.7653 - val_loss: 0.5298\n",
            "\u001b[1m782/782\u001b[0m \u001b[32m━━━━━━━━━━━━━━━━━━━━\u001b[0m\u001b[37m\u001b[0m \u001b[1m4s\u001b[0m 5ms/step - accuracy: 0.7721 - loss: 0.5172\n",
            "Bi-RNN Accuracy: 0.7653\n",
            "\n",
            "Training Bi-LSTM...\n",
            "Epoch 1/3\n",
            "\u001b[1m782/782\u001b[0m \u001b[32m━━━━━━━━━━━━━━━━━━━━\u001b[0m\u001b[37m\u001b[0m \u001b[1m18s\u001b[0m 16ms/step - accuracy: 0.6721 - loss: 0.5878 - val_accuracy: 0.8000 - val_loss: 0.4421\n",
            "Epoch 2/3\n",
            "\u001b[1m782/782\u001b[0m \u001b[32m━━━━━━━━━━━━━━━━━━━━\u001b[0m\u001b[37m\u001b[0m \u001b[1m18s\u001b[0m 16ms/step - accuracy: 0.8724 - loss: 0.3175 - val_accuracy: 0.7894 - val_loss: 0.4569\n",
            "Epoch 3/3\n",
            "\u001b[1m782/782\u001b[0m \u001b[32m━━━━━━━━━━━━━━━━━━━━\u001b[0m\u001b[37m\u001b[0m \u001b[1m20s\u001b[0m 16ms/step - accuracy: 0.9140 - loss: 0.2340 - val_accuracy: 0.8047 - val_loss: 0.4632\n",
            "\u001b[1m782/782\u001b[0m \u001b[32m━━━━━━━━━━━━━━━━━━━━\u001b[0m\u001b[37m\u001b[0m \u001b[1m4s\u001b[0m 5ms/step - accuracy: 0.8057 - loss: 0.4609\n",
            "Bi-LSTM Accuracy: 0.8047\n",
            "\n",
            "Training Bi-GRU...\n",
            "Epoch 1/3\n",
            "\u001b[1m782/782\u001b[0m \u001b[32m━━━━━━━━━━━━━━━━━━━━\u001b[0m\u001b[37m\u001b[0m \u001b[1m16s\u001b[0m 18ms/step - accuracy: 0.6105 - loss: 0.6354 - val_accuracy: 0.7910 - val_loss: 0.4639\n",
            "Epoch 2/3\n",
            "\u001b[1m782/782\u001b[0m \u001b[32m━━━━━━━━━━━━━━━━━━━━\u001b[0m\u001b[37m\u001b[0m \u001b[1m12s\u001b[0m 16ms/step - accuracy: 0.8529 - loss: 0.3620 - val_accuracy: 0.8075 - val_loss: 0.4311\n",
            "Epoch 3/3\n",
            "\u001b[1m782/782\u001b[0m \u001b[32m━━━━━━━━━━━━━━━━━━━━\u001b[0m\u001b[37m\u001b[0m \u001b[1m22s\u001b[0m 17ms/step - accuracy: 0.8995 - loss: 0.2635 - val_accuracy: 0.8071 - val_loss: 0.4592\n",
            "\u001b[1m782/782\u001b[0m \u001b[32m━━━━━━━━━━━━━━━━━━━━\u001b[0m\u001b[37m\u001b[0m \u001b[1m4s\u001b[0m 5ms/step - accuracy: 0.8072 - loss: 0.4591\n",
            "Bi-GRU Accuracy: 0.8071\n",
            "\n",
            "Final Accuracy Comparison:\n",
            "Simple RNN: 0.5124\n",
            "Bi-RNN: 0.7653\n",
            "Bi-LSTM: 0.8047\n",
            "Bi-GRU: 0.8071\n"
          ]
        }
      ],
      "source": [
        "results = {}\n",
        "\n",
        "for model_name, model in models.items():\n",
        "    print(f\"Training {model_name}...\")\n",
        "    model.compile(optimizer='adam', loss='binary_crossentropy', metrics=['accuracy'])\n",
        "    model.fit(X_train, y_train, epochs=3, batch_size=32, validation_data=(X_test, y_test), verbose=1)\n",
        "    test_loss, test_accuracy = model.evaluate(X_test, y_test)\n",
        "    results[model_name] = test_accuracy\n",
        "    print(f\"{model_name} Accuracy: {test_accuracy:.4f}\\n\")\n",
        "\n",
        "print(\"Final Accuracy Comparison:\")\n",
        "for model_name, acc in results.items():\n",
        "    print(f\"{model_name}: {acc:.4f}\")"
      ]
    },
    {
      "cell_type": "code",
      "execution_count": null,
      "id": "ed4309c3-281f-4ae9-b3a6-4a901c7a78ab",
      "metadata": {
        "id": "ed4309c3-281f-4ae9-b3a6-4a901c7a78ab"
      },
      "outputs": [],
      "source": []
    }
  ],
  "metadata": {
    "kernelspec": {
      "display_name": "Python 3",
      "name": "python3"
    },
    "language_info": {
      "codemirror_mode": {
        "name": "ipython",
        "version": 3
      },
      "file_extension": ".py",
      "mimetype": "text/x-python",
      "name": "python",
      "nbconvert_exporter": "python",
      "pygments_lexer": "ipython3",
      "version": "3.8.19"
    },
    "colab": {
      "provenance": [],
      "gpuType": "T4"
    },
    "accelerator": "GPU"
  },
  "nbformat": 4,
  "nbformat_minor": 5
}